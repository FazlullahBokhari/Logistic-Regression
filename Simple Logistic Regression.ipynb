{
 "cells": [
  {
   "cell_type": "code",
   "execution_count": 1,
   "id": "a0a56e7f",
   "metadata": {},
   "outputs": [
    {
     "name": "stdout",
     "output_type": "stream",
     "text": [
      "Fazlullah Bokhari\n",
      "X1 length:  13\n",
      "Y1 length:  13\n",
      "X2 length:  13\n",
      "Y2 length:  13\n",
      "X length:  26\n",
      "Y length:  26\n"
     ]
    }
   ],
   "source": [
    "import numpy as np\n",
    "from matplotlib import pyplot as plt\n",
    "from sklearn.linear_model import LogisticRegression\n",
    "print(\"Fazlullah Bokhari\")\n",
    "\n",
    "\n",
    "x1 = np.array([0,0.6,1.1,1.5,1.8,2.5,3,3.1,3.9,4,4.9,5,5.1])\n",
    "print(\"X1 length: \",len(x1))\n",
    "y1 = np.array([0,0,0,0,0,0,0,0,0,0,0,0,0])\n",
    "print(\"Y1 length: \",len(y1))\n",
    "\n",
    "x2 = np.array([3,3.8,4.4,5.2,5.5,6.5,6,6.1,6.9,7,7.9,8,8.1])\n",
    "print(\"X2 length: \",len(x2))\n",
    "y2 = np.array([1,1,1,1,1,1,1,1,1,1,1,1,1])\n",
    "print(\"Y2 length: \",len(y2))\n",
    "\n",
    "x = np.array([\n",
    "    [0],[0.6],[1.1],[1.5],[1.8],[2.5],[3],[3.1],[3.9],[4],[4.9],[5],[5.1],\n",
    "    [3],[3.8],[4.4],[5.2],[5.5],[6.5],[6],[6.1],[6.9],[7],[7.9],[8],[8.1]\n",
    "    ])\n",
    "print(\"X length: \",len(x))\n",
    "y = np.array([0,0,0,0,0,0,0,0,0,0,0,0,0,1,1,1,1,1,1,1,1,1,1,1,1,1])\n",
    "print(\"Y length: \",len(y))"
   ]
  },
  {
   "cell_type": "code",
   "execution_count": 5,
   "id": "c78c25ec",
   "metadata": {},
   "outputs": [
    {
     "data": {
      "image/png": "[encoded data removed]",
      "text/plain": [
       "<Figure size 432x288 with 1 Axes>"
      ]
     },
     "metadata": {
      "needs_background": "light"
     },
     "output_type": "display_data"
    }
   ],
   "source": [
    "plt.plot(x1,y1, \"ro\",color='blue')\n",
    "plt.plot(x2,y2,\"ro\",color='red')\n",
    "plt.show()"
   ]
  },
  {
   "cell_type": "code",
   "execution_count": 4,
   "id": "7beca2eb",
   "metadata": {},
   "outputs": [
    {
     "name": "stdout",
     "output_type": "stream",
     "text": [
      "b0 is:  [-4.50163542]\n",
      "b1 is:  [[1.00401882]]\n"
     ]
    },
    {
     "data": {
      "image/png": "[encoded data removed]",
      "text/plain": [
       "<Figure size 432x288 with 1 Axes>"
      ]
     },
     "metadata": {
      "needs_background": "light"
     },
     "output_type": "display_data"
    },
    {
     "name": "stdout",
     "output_type": "stream",
     "text": [
      "Prediction:  [0]\n",
      "Probability of prediction:  [[0.97061988 0.02938012]]\n"
     ]
    }
   ],
   "source": [
    "model = LogisticRegression()\n",
    "model.fit(x,y)\n",
    "print(\"b0 is: \",model.intercept_)\n",
    "print(\"b1 is: \",model.coef_)\n",
    "\n",
    "def logistic(classifier,x):\n",
    "    return  1/(1+np.exp(-(model.intercept_ + model.coef_ * x)))\n",
    "\n",
    "for i in range(1,120):\n",
    "    plt.plot(i/10.0 - 2, logistic(model, i/10.0), 'ro', color='green')\n",
    "\n",
    "plt.axis([-2,10,-0.5,2])\n",
    "plt.show()\n",
    "\n",
    "pred = model.predict([[1]])\n",
    "print(\"Prediction: \",pred)\n",
    "prob_pred = model.predict_proba([[1]])\n",
    "print(\"Probability of prediction: \",prob_pred)"
   ]
  },
  {
   "cell_type": "code",
   "execution_count": null,
   "id": "ac2312c5",
   "metadata": {},
   "outputs": [],
   "source": [
    "f(x) = 1/1+e**(-x)"
   ]
  },
  {
   "cell_type": "code",
   "execution_count": null,
   "id": "02de4466",
   "metadata": {},
   "outputs": [],
   "source": [
    "b0+b1x...."
   ]
  }
 ],
 "metadata": {
  "kernelspec": {
   "display_name": "Python 3",
   "language": "python",
   "name": "python3"
  },
  "language_info": {
   "codemirror_mode": {
    "name": "ipython",
    "version": 3
   },
   "file_extension": ".py",
   "mimetype": "text/x-python",
   "name": "python",
   "nbconvert_exporter": "python",
   "pygments_lexer": "ipython3",
   "version": "3.8.8"
  }
 },
 "nbformat": 4,
 "nbformat_minor": 5
}
